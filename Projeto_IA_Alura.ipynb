{
  "cells": [
    {
      "cell_type": "markdown",
      "metadata": {
        "id": "view-in-github",
        "colab_type": "text"
      },
      "source": [
        "<a href=\"https://colab.research.google.com/github/JilvanJr/IA_Alura/blob/main/Projeto_IA_Alura.ipynb\" target=\"_parent\"><img src=\"https://colab.research.google.com/assets/colab-badge.svg\" alt=\"Open In Colab\"/></a>"
      ]
    },
    {
      "cell_type": "markdown",
      "metadata": {
        "id": "kHkHARdb1ZID"
      },
      "source": [
        "## Instalando o SDK do Google\n",
        "\n",
        "O SDK Python para a API Gemini está contido no pacote [`google-generativeai`](https://pypi.org/project/google-generativeai/). Instale a dependência usando pip:"
      ]
    },
    {
      "cell_type": "code",
      "execution_count": 1,
      "metadata": {
        "id": "J6Pd9SFJ1yVi"
      },
      "outputs": [],
      "source": [
        "!pip install -q -U google-generativeai"
      ]
    },
    {
      "cell_type": "markdown",
      "metadata": {
        "id": "EeMCtmx9ykyx"
      },
      "source": [
        "## Configure sua chave de API\n",
        "\n",
        "\n",
        "Para usar a API Gemini, você precisará de uma chave de API. Se ainda não tiver uma, crie uma chave no Google AI Studio.\n",
        "\n",
        "<a class=\"button\" href=\"https://aistudio.google.com/app/apikey\" target=\"_blank\" rel=\"noopener noreferrer\">Obtenha uma chave de API</a>\n",
        "\n",
        "No Colab, adicione a chave do gerenciador de segredos em “🔑” no painel esquerdo. Dê a ele o nome `GOOGLE_API_KEY`. Em seguida, passe a chave para o SDK:"
      ]
    },
    {
      "cell_type": "code",
      "execution_count": 3,
      "metadata": {
        "id": "HTiaTu6O1LRC"
      },
      "outputs": [],
      "source": [
        "# Import the Python SDK\n",
        "import google.generativeai as genai\n",
        "\n",
        "from google.colab import userdata\n",
        "api_key = userdata.get('SECRET_KEY')\n",
        "genai.configure(api_key=api_key)"
      ]
    },
    {
      "cell_type": "markdown",
      "source": [
        "## Listar os modelos disponíveis\n",
        "\n",
        "gemini-1.0-pro -> versão estavel do modelo\n",
        "\n",
        "pro-latest -> última versão daquele modelo\n",
        "\n",
        "models/gemini-1.5 -> não tem ainda as parametrizações\n",
        "\n",
        "models/gemini-pro-vision -> aceita video, texto e imagem"
      ],
      "metadata": {
        "id": "siOHZ2ZW6THs"
      }
    },
    {
      "cell_type": "code",
      "source": [
        "for m in genai.list_models():\n",
        "  if 'generateContent' in m.supported_generation_methods:\n",
        "    print(m.name)"
      ],
      "metadata": {
        "id": "T6tmYsNM6XU3",
        "outputId": "b8ac35e9-73e7-4fff-a080-87c9d1104db0",
        "colab": {
          "base_uri": "https://localhost:8080/",
          "height": 225
        }
      },
      "execution_count": 4,
      "outputs": [
        {
          "output_type": "stream",
          "name": "stdout",
          "text": [
            "models/gemini-1.0-pro\n",
            "models/gemini-1.0-pro-001\n",
            "models/gemini-1.0-pro-latest\n",
            "models/gemini-1.0-pro-vision-latest\n",
            "models/gemini-1.5-flash\n",
            "models/gemini-1.5-flash-001\n",
            "models/gemini-1.5-flash-latest\n",
            "models/gemini-1.5-pro\n",
            "models/gemini-1.5-pro-001\n",
            "models/gemini-1.5-pro-latest\n",
            "models/gemini-pro\n",
            "models/gemini-pro-vision\n"
          ]
        }
      ]
    },
    {
      "cell_type": "markdown",
      "source": [
        "## Parametrização"
      ],
      "metadata": {
        "id": "f_2Wzy-6B5_5"
      }
    },
    {
      "cell_type": "code",
      "source": [
        "var_generation_config = {\n",
        "    \"candidate_count\": 1,\n",
        "    \"temperature\": 0.5\n",
        "}"
      ],
      "metadata": {
        "id": "F6oESs1XBOkX"
      },
      "execution_count": 5,
      "outputs": []
    },
    {
      "cell_type": "code",
      "source": [
        "var_safety_settings = {\n",
        "    \"HARASSMENT\": \"BLOCK_NONE\",\n",
        "    \"HATE\": \"BLOCK_NONE\",\n",
        "    \"SEXUAL\": \"BLOCK_NONE\",\n",
        "    \"DANGEROUS\": \"BLOCK_NONE\"\n",
        "}"
      ],
      "metadata": {
        "id": "9ySLaWfqBYDU"
      },
      "execution_count": 6,
      "outputs": []
    },
    {
      "cell_type": "markdown",
      "metadata": {
        "id": "CZPYk29o2No0"
      },
      "source": [
        "## Inicialize o modelo generativo\n",
        "\n",
        "\n",
        "```\n",
        "# Isto está formatado como código\n",
        "```\n",
        "\n",
        "\n",
        "\n",
        "Antes de fazer qualquer chamada de API, você precisa inicializar o modelo generativo."
      ]
    },
    {
      "cell_type": "code",
      "execution_count": 7,
      "metadata": {
        "id": "s-JqXcDe2hZ_"
      },
      "outputs": [],
      "source": [
        "model = genai.GenerativeModel(model_name=\"gemini-1.0-pro\",\n",
        "                              generation_config=var_generation_config,\n",
        "                              safety_settings=var_safety_settings)"
      ]
    },
    {
      "cell_type": "markdown",
      "metadata": {
        "id": "nXxypzJH4MUl"
      },
      "source": [
        "## Gerar texto"
      ]
    },
    {
      "cell_type": "code",
      "execution_count": 8,
      "metadata": {
        "id": "j51mcrLD4Y2W",
        "outputId": "29b984e6-cc4f-447a-ecce-b1357e020eb5",
        "colab": {
          "base_uri": "https://localhost:8080/",
          "height": 902
        }
      },
      "outputs": [
        {
          "output_type": "stream",
          "name": "stdout",
          "text": [
            "**Melhores Cursos de Inglês no Brasil para Profissionais de TI**\n",
            "\n",
            "**1. EF English First**\n",
            "* Foco em comunicação empresarial e terminologia técnica\n",
            "* Cursos personalizados para profissionais de TI\n",
            "* Plataforma de aprendizado online abrangente\n",
            "\n",
            "**2. Wizard by Pearson**\n",
            "* Especialização em inglês para negócios e tecnologia\n",
            "* Metodologia imersiva com foco na conversação\n",
            "* Material didático desenvolvido por especialistas em TI\n",
            "\n",
            "**3. Cultura Inglesa**\n",
            "* Cursos específicos para profissionais de TI e engenharia\n",
            "* Ênfase em vocabulário técnico e habilidades de apresentação\n",
            "* Professores especializados com experiência na área\n",
            "\n",
            "**4. CNA**\n",
            "* Cursos de inglês geral e técnico para profissionais de TI\n",
            "* Material didático atualizado com exemplos da indústria\n",
            "* Plataforma de aprendizado online complementar\n",
            "\n",
            "**5. Yázigi**\n",
            "* Cursos de inglês para negócios e TI\n",
            "* Metodologia focada em comunicação eficaz\n",
            "* Professores experientes com conhecimento técnico\n",
            "\n",
            "**6. Fisk**\n",
            "* Cursos de inglês para profissionais de TI com foco em leitura, escrita e conversação\n",
            "* Material didático especializado com exercícios práticos\n",
            "* Professores qualificados com experiência em TI\n",
            "\n",
            "**7. Wall Street English**\n",
            "* Cursos de inglês para negócios e TI\n",
            "* Método de aprendizado baseado em situações da vida real\n",
            "* Professores nativos com experiência em TI\n",
            "\n",
            "**8. CNA**\n",
            "* Cursos de inglês técnico para profissionais de TI\n",
            "* Foco em vocabulário específico da área e habilidades de comunicação\n",
            "* Professores especializados com conhecimento técnico\n",
            "\n",
            "**9. CNA**\n",
            "* Cursos de inglês para negócios e TI\n",
            "* Metodologia focada em comunicação eficaz\n",
            "* Professores experientes com conhecimento técnico\n",
            "\n",
            "**10. CNA**\n",
            "* Cursos de inglês técnico para profissionais de TI\n",
            "* Foco em vocabulário específico da área e habilidades de comunicação\n",
            "* Professores especializados com conhecimento técnico\n"
          ]
        }
      ],
      "source": [
        "response = model.generate_content(\"Sou de TI, me indique o melhor curso de inglês para se fazer aqui no Brasil\")\n",
        "print(response.text)"
      ]
    },
    {
      "cell_type": "code",
      "source": [
        "chat = model.start_chat(history=[])"
      ],
      "metadata": {
        "id": "WXCzxFO0FVl9"
      },
      "execution_count": 9,
      "outputs": []
    },
    {
      "cell_type": "code",
      "source": [
        "prompt = input(\"Esperando prompt: \")\n",
        "\n",
        "while prompt != \"fim\":\n",
        "  response = chat.send_message(prompt)\n",
        "  print(\"Response: \", response.text, \"\\n\")\n",
        "  prompt = input(\"Esperando prompt: \")"
      ],
      "metadata": {
        "colab": {
          "base_uri": "https://localhost:8080/",
          "height": 399
        },
        "id": "tfnFYOZNG50F",
        "outputId": "eafdf6c2-32d0-45e5-cb1c-179af25a63c8"
      },
      "execution_count": 10,
      "outputs": [
        {
          "name": "stdout",
          "output_type": "stream",
          "text": [
            "Esperando prompt: Filme com maior bilheteria em 2023\n",
            "Response:  Até o momento (17 de fevereiro de 2023), o filme com maior bilheteria em 2023 é:\n",
            "\n",
            "**Magic Mike: A Última Dança**\n",
            "\n",
            "* Bilheteria mundial: US$ 185,3 milhões \n",
            "\n",
            "Esperando prompt: Filme com maior bilheteria em 2020\n",
            "Response:  O filme com maior bilheteria em 2020 é:\n",
            "\n",
            "**Bad Boys para Sempre**\n",
            "\n",
            "* Bilheteria mundial: US$ 426,5 milhões \n",
            "\n",
            "Esperando prompt: Filme com maior bilheteria em 2019\n",
            "Response:  O filme com maior bilheteria em 2019 é:\n",
            "\n",
            "**Vingadores: Ultimato**\n",
            "\n",
            "* Bilheteria mundial: US$ 2,798 bilhões \n",
            "\n",
            "Esperando prompt: fim\n"
          ]
        }
      ]
    },
    {
      "cell_type": "code",
      "source": [
        "#Melhorando a visualização\n",
        "#Código disponível em https://ai.google.dev/tutorials/python_quickstart#import_packages\n",
        "import textwrap\n",
        "from IPython.display import display\n",
        "from IPython.display import Markdown\n",
        "\n",
        "def to_markdown(text):\n",
        "  text = text.replace('•', ' *')\n",
        "  return Markdown(textwrap.indent(text, '> ', predicate=lambda _: True))\n",
        "\n",
        "#Imprimindo o histórico\n",
        "for message in chat.history:\n",
        "  display(to_markdown(f'**{message.role}**: {message.parts[0].text}'))\n",
        "print('---------------------')"
      ],
      "metadata": {
        "id": "qSbh1CLtv6EI",
        "outputId": "1f2e3be5-828f-44a6-cb39-41e0c501677c",
        "colab": {
          "base_uri": "https://localhost:8080/",
          "height": 377
        }
      },
      "execution_count": 11,
      "outputs": [
        {
          "output_type": "display_data",
          "data": {
            "text/plain": [
              "<IPython.core.display.Markdown object>"
            ],
            "text/markdown": "> **user**: Filme com maior bilheteria em 2023"
          },
          "metadata": {}
        },
        {
          "output_type": "display_data",
          "data": {
            "text/plain": [
              "<IPython.core.display.Markdown object>"
            ],
            "text/markdown": "> **model**: Até o momento (17 de fevereiro de 2023), o filme com maior bilheteria em 2023 é:\n> \n> **Magic Mike: A Última Dança**\n> \n> * Bilheteria mundial: US$ 185,3 milhões"
          },
          "metadata": {}
        },
        {
          "output_type": "display_data",
          "data": {
            "text/plain": [
              "<IPython.core.display.Markdown object>"
            ],
            "text/markdown": "> **user**: Filme com maior bilheteria em 2020"
          },
          "metadata": {}
        },
        {
          "output_type": "display_data",
          "data": {
            "text/plain": [
              "<IPython.core.display.Markdown object>"
            ],
            "text/markdown": "> **model**: O filme com maior bilheteria em 2020 é:\n> \n> **Bad Boys para Sempre**\n> \n> * Bilheteria mundial: US$ 426,5 milhões"
          },
          "metadata": {}
        },
        {
          "output_type": "display_data",
          "data": {
            "text/plain": [
              "<IPython.core.display.Markdown object>"
            ],
            "text/markdown": "> **user**: Filme com maior bilheteria em 2019"
          },
          "metadata": {}
        },
        {
          "output_type": "display_data",
          "data": {
            "text/plain": [
              "<IPython.core.display.Markdown object>"
            ],
            "text/markdown": "> **model**: O filme com maior bilheteria em 2019 é:\n> \n> **Vingadores: Ultimato**\n> \n> * Bilheteria mundial: US$ 2,798 bilhões"
          },
          "metadata": {}
        },
        {
          "output_type": "stream",
          "name": "stdout",
          "text": [
            "---------------------\n"
          ]
        }
      ]
    }
  ],
  "metadata": {
    "colab": {
      "provenance": [],
      "include_colab_link": true
    },
    "kernelspec": {
      "display_name": "Python 3",
      "name": "python3"
    }
  },
  "nbformat": 4,
  "nbformat_minor": 0
}